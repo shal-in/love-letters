{
 "cells": [
  {
   "cell_type": "code",
   "execution_count": 1,
   "metadata": {},
   "outputs": [
    {
     "name": "stdout",
     "output_type": "stream",
     "text": [
      "<p>I can’t help but smile every time I think of you.</p>\n",
      "<p>You’ve brought so much light into my life.</p>\n",
      "<p>I adore everything about you—the way you laugh, the way you listen.</p>\n"
     ]
    }
   ],
   "source": [
    "def text_to_html(text):\n",
    "    \"\"\"Convert plain text into HTML paragraphs.\"\"\"\n",
    "    paragraphs = text.strip().split(\"\\n\")  # Split by new lines\n",
    "    html_paragraphs = [f\"<p>{p.strip()}</p>\" for p in paragraphs if p.strip()]  # Wrap in <p> tags, ignoring empty lines\n",
    "    return \"\\n\".join(html_paragraphs)  # Join paragraphs with line breaks\n",
    "\n",
    "# Example Usages\n",
    "text = \"\"\"I can’t help but smile every time I think of you.\n",
    "You’ve brought so much light into my life.\n",
    "\n",
    "I adore everything about you—the way you laugh, the way you listen.\"\"\"\n",
    "\n",
    "html_output = text_to_html(text)\n",
    "print(html_output)\n"
   ]
  },
  {
   "cell_type": "code",
   "execution_count": null,
   "metadata": {},
   "outputs": [],
   "source": []
  }
 ],
 "metadata": {
  "kernelspec": {
   "display_name": "Python 3",
   "language": "python",
   "name": "python3"
  },
  "language_info": {
   "codemirror_mode": {
    "name": "ipython",
    "version": 3
   },
   "file_extension": ".py",
   "mimetype": "text/x-python",
   "name": "python",
   "nbconvert_exporter": "python",
   "pygments_lexer": "ipython3",
   "version": "3.11.7"
  }
 },
 "nbformat": 4,
 "nbformat_minor": 2
}
