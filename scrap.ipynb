{
 "cells": [
  {
   "cell_type": "code",
   "execution_count": 15,
   "metadata": {},
   "outputs": [],
   "source": [
    "raw = {\n",
    "    \"id\": \"10\",\n",
    "    \"raw\": {\n",
    "        \"from\": \"John\",\n",
    "        \"text\": \"I can't help but smile every time I think of you. You've brought so much light into my life that I often wonder how I got so lucky. Your presence makes the simplest moments feel extraordinary, and being with you has shown me a love I didn't know was possible.\\nI adore everything about you—the way you laugh, the way you listen, the way you make even the hardest days feel manageable. You have a warmth that draws me in, a kindness that inspires me, and a strength that amazes me. With you, I feel safe, seen, and understood in a way I've never felt before.\",\n",
    "        \"to\": \"Katie\",\n",
    "    },\n",
    "}"
   ]
  },
  {
   "cell_type": "code",
   "execution_count": 21,
   "metadata": {},
   "outputs": [
    {
     "data": {
      "text/plain": [
       "'<p class=\"recipients\">To Katie, from John</p>\\n<p>I can\\'t help but smile every time I think of you. You\\'ve brought so much light into my life that I often wonder how I got so lucky. Your presence makes the simplest moments feel extraordinary, and being with you has shown me a love I didn\\'t know was possible.</p>\\n<p>I adore everything about you—the way you laugh, the way you listen, the way you make even the hardest days feel manageable. You have a warmth that draws me in, a kindness that inspires me, and a strength that amazes me. With you, I feel safe, seen, and understood in a way I\\'ve never felt before.</p>'"
      ]
     },
     "execution_count": 21,
     "metadata": {},
     "output_type": "execute_result"
    }
   ],
   "source": [
    "def text_to_html(raw: dict) -> str:\n",
    "    to: str = raw[\"to\"]\n",
    "    from_: str = raw[\"from\"]\n",
    "    text: str = raw[\"text\"]\n",
    "\n",
    "    html = f'<p class=\"recipients\">To '\n",
    "    if to:\n",
    "        html += f\"{to}\"\n",
    "    else:\n",
    "        html += f\"Anonymous\"\n",
    "\n",
    "    if from_:\n",
    "        html += f\", from {from_}\"\n",
    "\n",
    "    html += f\"</p>\"\n",
    "\n",
    "    parags: list = text.split(\"\\n\")\n",
    "\n",
    "    for parag in parags:\n",
    "        p = f\"<p>{parag}</p>\"\n",
    "\n",
    "        html += \"\\n\"\n",
    "        html += p\n",
    "\n",
    "    return html\n",
    "\n",
    "\n",
    "text_to_html(raw[\"raw\"])"
   ]
  },
  {
   "cell_type": "code",
   "execution_count": null,
   "metadata": {},
   "outputs": [],
   "source": []
  }
 ],
 "metadata": {
  "kernelspec": {
   "display_name": "Python 3",
   "language": "python",
   "name": "python3"
  },
  "language_info": {
   "codemirror_mode": {
    "name": "ipython",
    "version": 3
   },
   "file_extension": ".py",
   "mimetype": "text/x-python",
   "name": "python",
   "nbconvert_exporter": "python",
   "pygments_lexer": "ipython3",
   "version": "3.11.7"
  }
 },
 "nbformat": 4,
 "nbformat_minor": 2
}
